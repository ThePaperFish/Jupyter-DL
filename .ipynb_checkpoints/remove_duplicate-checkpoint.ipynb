{
 "cells": [
  {
   "cell_type": "code",
   "execution_count": 2,
   "metadata": {},
   "outputs": [],
   "source": [
    "def readfile(path):\n",
    "\tf = open(path, \"r\")\n",
    "\tcontent = f.read()\n",
    "\tf.close()\n",
    "\treturn content\n",
    "\n",
    "def writefile(content,path):\n",
    "\tf = open(path, \"w\")\n",
    "\tf.write(content)\n",
    "\tf.close()\n",
    "    \n",
    "def removeDuplicate(list):\n",
    "\tl = []\n",
    "\tfor i in list:\n",
    "\t\ti = i.strip()\n",
    "\t\tif i not in l:\n",
    "\t\t\tl += [i]\n",
    "\treturn l\n",
    "    "
   ]
  },
  {
   "cell_type": "code",
   "execution_count": 3,
   "metadata": {},
   "outputs": [
    {
     "name": "stdout",
     "output_type": "stream",
     "text": [
      "1088\n",
      "1010\n"
     ]
    }
   ],
   "source": [
    "list = readfile(r'C:\\Users\\tlchong\\Desktop\\all\\list\\result.txt')\n",
    "list = list.split('\\n')\n",
    "\n",
    "print(len(list))\n",
    "\n",
    "list = removeDuplicate(list)\n",
    "print(len(list))\n"
   ]
  },
  {
   "cell_type": "code",
   "execution_count": null,
   "metadata": {},
   "outputs": [],
   "source": []
  }
 ],
 "metadata": {
  "kernelspec": {
   "display_name": "Python 3",
   "language": "python",
   "name": "python3"
  },
  "language_info": {
   "codemirror_mode": {
    "name": "ipython",
    "version": 3
   },
   "file_extension": ".py",
   "mimetype": "text/x-python",
   "name": "python",
   "nbconvert_exporter": "python",
   "pygments_lexer": "ipython3",
   "version": "3.6.8"
  }
 },
 "nbformat": 4,
 "nbformat_minor": 2
}
