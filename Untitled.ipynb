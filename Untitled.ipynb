{
 "cells": [
  {
   "cell_type": "markdown",
   "metadata": {},
   "source": [
    "## Something"
   ]
  },
  {
   "cell_type": "code",
   "execution_count": 2,
   "metadata": {},
   "outputs": [],
   "source": [
    "Filter_word = '''\n",
    "the\n",
    "of\n",
    "to\n",
    "and\n",
    "a\n",
    "in\n",
    "is\n",
    "it\n",
    "you\n",
    "that\n",
    "he\n",
    "was\n",
    "for\n",
    "on\n",
    "are\n",
    "with\n",
    "as\n",
    "I\n",
    "his\n",
    "they\n",
    "be\n",
    "at\n",
    "one\n",
    "have\n",
    "this\n",
    "from\n",
    "or\n",
    "had\n",
    "by\n",
    "hot\n",
    "word\n",
    "but\n",
    "what\n",
    "p\n",
    "strong\n",
    "div\n",
    "li\n",
    "ul'''"
   ]
  },
  {
   "cell_type": "code",
   "execution_count": 3,
   "metadata": {},
   "outputs": [],
   "source": [
    "import pandas as pd"
   ]
  },
  {
   "cell_type": "code",
   "execution_count": 4,
   "metadata": {},
   "outputs": [],
   "source": [
    "df = pd.read_excel('test.xlsx')"
   ]
  },
  {
   "cell_type": "code",
   "execution_count": 5,
   "metadata": {},
   "outputs": [
    {
     "data": {
      "text/plain": [
       "Index(['Recipe ID', 'Recipe Title', 'Description', '</p>', '<p', 'Ingredients',\n",
       "       'Ingredients2', 'Steps', 'Preparation', 'Cooking', 'Prep', 'Cook',\n",
       "       'Unnamed: 12', 'Preparation.1', 'Unnamed: 14', 'Cooking.1',\n",
       "       'Unnamed: 16', 'Unnamed: 17', 'Unnamed: 18'],\n",
       "      dtype='object')"
      ]
     },
     "execution_count": 5,
     "metadata": {},
     "output_type": "execute_result"
    }
   ],
   "source": [
    "df.keys()"
   ]
  },
  {
   "cell_type": "code",
   "execution_count": 6,
   "metadata": {},
   "outputs": [],
   "source": [
    "t = df['Description']\n",
    "k1 = df['Preparation.1']\n",
    "k2 = df['Cooking.1']\n",
    "ktime = ['minutes','minute','hours','hour','sec','seconds','second']\n",
    "Filter_word = Filter_word.split('\\n')"
   ]
  },
  {
   "cell_type": "code",
   "execution_count": 7,
   "metadata": {},
   "outputs": [
    {
     "data": {
      "text/plain": [
       "0      adding\n",
       "1      adjust\n",
       "2       apply\n",
       "3     arrange\n",
       "4    assemble\n",
       "5       balls\n",
       "6        beat\n",
       "7      beaten\n",
       "8     beating\n",
       "9       binds\n",
       "Name: Preparation.1, dtype: object"
      ]
     },
     "execution_count": 7,
     "metadata": {},
     "output_type": "execute_result"
    }
   ],
   "source": [
    "k1[:10]"
   ]
  },
  {
   "cell_type": "code",
   "execution_count": 8,
   "metadata": {},
   "outputs": [
    {
     "data": {
      "text/plain": [
       "(5029, 5029, 5029, 39)"
      ]
     },
     "execution_count": 8,
     "metadata": {},
     "output_type": "execute_result"
    }
   ],
   "source": [
    "len(t), len(k1), len(k2),len(Filter_word)"
   ]
  },
  {
   "cell_type": "code",
   "execution_count": 9,
   "metadata": {},
   "outputs": [
    {
     "data": {
      "text/plain": [
       "'<strong>Bread that is delicious toasted and spread with lots of butter.</strong>\\n\\nI grew up with the English muffin; I know its habits. It comes from the grocery store, lives in the fridge, and has a '"
      ]
     },
     "execution_count": 9,
     "metadata": {},
     "output_type": "execute_result"
    }
   ],
   "source": [
    "t[0][:200]"
   ]
  },
  {
   "cell_type": "markdown",
   "metadata": {},
   "source": [
    "### Tokenize text"
   ]
  },
  {
   "cell_type": "code",
   "execution_count": 25,
   "metadata": {},
   "outputs": [
    {
     "data": {
      "text/plain": [
       "[{'prep': [['adding', 'minutes']], 'cook': [['adding', 'minutes']]}]"
      ]
     },
     "execution_count": 25,
     "metadata": {},
     "output_type": "execute_result"
    }
   ],
   "source": [
    "import nltk.data\n",
    "\n",
    "def findinlist(text,list_keyword):\n",
    "    #list keyword\n",
    "    flag = False\n",
    "    for i in list(list_keyword):\n",
    "        if s.find(str(i)) != -1:\n",
    "            flag = True\n",
    "            break\n",
    "            \n",
    "    return flag\n",
    "\n",
    "t = ['<strong>Bread that is delicious toasted adding minutes with lots of butter.</strong>\\n\\nI grew up with the English muffin; I know its habits. It comes from the grocery store, lives in the fridge, and has a ']\n",
    "ktime = ['minutes','minute','hours','hour','sec','seconds','second']\n",
    "    \n",
    "result = []\n",
    "tokenizer = nltk.data.load('tokenizers/punkt/english.pickle')\n",
    "for text in t[:1]:\n",
    "    sentences = tokenizer.tokenize(text)\n",
    "    \n",
    "    prep = []\n",
    "    cook = []\n",
    "    for s in sentences:\n",
    "        \n",
    "        #Ktime Keyword\n",
    "        flag = findinlist(s,ktime)\n",
    "        if flag:\n",
    "            #print(s)\n",
    "            #preparation\n",
    "            flag = findinlist(s,k1)\n",
    "            if flag:\n",
    "                prep.append(s)\n",
    "                \n",
    "            #cook\n",
    "            flag = findinlist(s,k1)\n",
    "            if flag:\n",
    "                cook.append(s)\n",
    "        \n",
    "    temp = list(prep)\n",
    "    temp2 = []\n",
    "    prep = []\n",
    "    for s in temp:\n",
    "        s = s.split(' ')\n",
    "        \n",
    "        for i in range(len(s)):\n",
    "            if s[i] in ktime:\n",
    "                \n",
    "                temp2.append(i)\n",
    "        \n",
    "        for i in temp2:\n",
    "            prep.append([s[i-1],s[i]])\n",
    "        \n",
    "    temp = list(cook)\n",
    "    temp2 = []\n",
    "    cook = []\n",
    "    for s in temp:\n",
    "        s = s.split(' ')\n",
    "        \n",
    "        for i in range(len(s)):\n",
    "            if s[i] in ktime:\n",
    "                \n",
    "                temp2.append(i)\n",
    "        \n",
    "        for i in temp2:\n",
    "            cook.append([s[i-1],s[i]])\n",
    "            \n",
    "    result.append({'prep':prep,'cook':cook})\n",
    "    \n",
    "result"
   ]
  },
  {
   "cell_type": "markdown",
   "metadata": {},
   "source": [
    "### Filter Result"
   ]
  },
  {
   "cell_type": "code",
   "execution_count": 28,
   "metadata": {},
   "outputs": [],
   "source": [
    "from tqdm import tqdm"
   ]
  },
  {
   "cell_type": "code",
   "execution_count": 29,
   "metadata": {
    "scrolled": true
   },
   "outputs": [
    {
     "name": "stderr",
     "output_type": "stream",
     "text": [
      " 10%|████▌                                         | 1/10 [00:00<00:04,  2.18it/s]"
     ]
    },
    {
     "name": "stdout",
     "output_type": "stream",
     "text": [
      "['toasted', 'and', 'spread', 'with', 'lots', 'of', 'butter', 'strong', 'I', 'brown', 'spotted', 'fork', 'split', 'craggy', 'faced', 'I', 'didn', 't', 'pry', 'make', 'one', 'Turns', 'out', 'the', 'muffin', 'has', 'made', 'an', 'English', 'muffin', 'I', 'suppose', 'Or', 'brown', 'sides', 'perforated', 'perimeter', 'craggy', 'centre', 'It', 'warm', 'water', '2', 'tsp', 'honey', '2¼', 'tsp', 'dry', 'yeast', '1', 'cup', 'warm', 'milk', '3', 'tbsp', 'unsalted', 'butter', 'melted', 'and', 'cooled', '1½', 'cups', 'whole', 'wheat', 'flour', '1', 'tsp', 'salt', '1', 'cup', 'all-purpose', 'flour', 'plus', 'a', 'little', 'extra', 'Salted', 'butter', 'mixing', 'bowl', 'stir', 'together', 'warm', 'water', 'and', 'honey', 'Sprinkle', 'in', 'yeast', 'flour', 'Cover', 'the', 'bowl', 'with', 'plastic', 'wrap', 'then', 'a', 'kitchen', 'towel', 'and', 'let', 'warm', 'spot', '1', 'hour', 'This', 'wet', 'dough', 'bubble', 'and', 'when', 'poked', 'look', 'something', 'like', 'flour', 'stir', 'in', 'Turn', 'out', 'and', 'knead', 'adding', 'a', 'little', 'flour', 'if', 'needed', 'to', 'achieve', 'a', 'soft', 'flour', 'Cover', 'with', 'plastic', 'and', 'let', 'rest', 'brown', '2', 'to', '3', 'minutes', 'per', 'side', 'baking', 'sheet', 'and', 'slide', 'into', 'a', '150°C', 'oven', 'Bake', 'until', 'cooked', 'through', 'about', '8', 'minutes', 'strong', 'em']\n"
     ]
    },
    {
     "name": "stderr",
     "output_type": "stream",
     "text": [
      "100%|█████████████████████████████████████████████| 10/10 [00:02<00:00,  3.80it/s]\n"
     ]
    }
   ],
   "source": [
    "final_result = []\n",
    "for i in tqdm(range(10)):\n",
    "    \n",
    "    if i % 1000 == 1:\n",
    "        print(result)\n",
    "    \n",
    "    #Step 1: keep filter and filter\n",
    "    item = t[i]\n",
    "    #First split\n",
    "    item = item.split('\\n')\n",
    "    \n",
    "    processed_text = [] #processed_text\n",
    "    temp = [] #index of keyword\n",
    "    for i in item:\n",
    "        #Symbol Filter\n",
    "        i = ''.join( c if c not in '[!@#$,\\'\\\\\\\"\\n.´`=+_~;:?/}{<>]' else ' ' for c in i )\n",
    "        \n",
    "        #Second split \n",
    "        for i in i.split(' '):\n",
    "            #Skip gg word\n",
    "            if i == '':\n",
    "                continue\n",
    "            \n",
    "            processed_text += [i]\n",
    "            \n",
    "            #Meaningless word Filter\n",
    "            if i in Filter_word:\n",
    "                continue\n",
    "\n",
    "            #Is Keyword?\n",
    "            if not(i in list(k1) or i in list(k2)):  \n",
    "                continue \n",
    "            \n",
    "            temp += [len(processed_text) -1]\n",
    "            \n",
    "    #Step 2: Join them together\n",
    "    result = []\n",
    "    right_max = 0\n",
    "    \n",
    "    for i in temp:\n",
    "        \n",
    "        left_min = i\n",
    "        if i < right_max:\n",
    "            left_min = right_max\n",
    "            \n",
    "        right_max = min(len(processed_text),i + 7)\n",
    "        \n",
    "        result += processed_text[left_min:right_max]\n",
    "    \n",
    "    final_result += ['/'.join(result)]"
   ]
  },
  {
   "cell_type": "code",
   "execution_count": null,
   "metadata": {},
   "outputs": [],
   "source": [
    "final_result[:1]"
   ]
  },
  {
   "cell_type": "code",
   "execution_count": 12,
   "metadata": {},
   "outputs": [],
   "source": [
    "df['result'] = final_result"
   ]
  },
  {
   "cell_type": "code",
   "execution_count": null,
   "metadata": {},
   "outputs": [],
   "source": [
    "df.to_excel('result.xlsx')"
   ]
  },
  {
   "cell_type": "code",
   "execution_count": null,
   "metadata": {},
   "outputs": [],
   "source": []
  }
 ],
 "metadata": {
  "kernelspec": {
   "display_name": "Python 3",
   "language": "python",
   "name": "python3"
  },
  "language_info": {
   "codemirror_mode": {
    "name": "ipython",
    "version": 3
   },
   "file_extension": ".py",
   "mimetype": "text/x-python",
   "name": "python",
   "nbconvert_exporter": "python",
   "pygments_lexer": "ipython3",
   "version": "3.6.8"
  }
 },
 "nbformat": 4,
 "nbformat_minor": 2
}
