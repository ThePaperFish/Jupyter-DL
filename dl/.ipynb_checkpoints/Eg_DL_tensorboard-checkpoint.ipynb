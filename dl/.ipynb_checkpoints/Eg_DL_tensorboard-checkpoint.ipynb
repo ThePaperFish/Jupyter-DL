{
 "cells": [
  {
   "cell_type": "markdown",
   "metadata": {},
   "source": [
    "## Tensorflow Ploting"
   ]
  },
  {
   "cell_type": "markdown",
   "metadata": {},
   "source": [
    "Import Dependency"
   ]
  },
  {
   "cell_type": "code",
   "execution_count": 1,
   "metadata": {},
   "outputs": [],
   "source": [
    "import tensorflow as tf\n",
    "import numpy as np\n",
    "from tensorflow import keras\n",
    "import datetime"
   ]
  },
  {
   "cell_type": "markdown",
   "metadata": {},
   "source": [
    "Load data"
   ]
  },
  {
   "cell_type": "code",
   "execution_count": 2,
   "metadata": {},
   "outputs": [],
   "source": [
    "with np.load('C:\\\\vs2015shareddata\\\\dataset\\\\mnist.npz') as f:\n",
    "\t(x_train, y_train) = f['x_train'][:20000],f['y_train'][:20000]\n",
    "\t(x_test, y_test) = f['x_test'],f['y_test']\n",
    "\t\n",
    "x_train, x_test = x_train / 255.0, x_test / 255.0"
   ]
  },
  {
   "cell_type": "code",
   "execution_count": 3,
   "metadata": {},
   "outputs": [
    {
     "data": {
      "text/plain": [
       "(20000, 28, 28)"
      ]
     },
     "execution_count": 3,
     "metadata": {},
     "output_type": "execute_result"
    }
   ],
   "source": [
    "x_train.shape"
   ]
  },
  {
   "cell_type": "markdown",
   "metadata": {},
   "source": [
    "Build Model"
   ]
  },
  {
   "cell_type": "code",
   "execution_count": 4,
   "metadata": {},
   "outputs": [],
   "source": [
    "model = tf.keras.models.Sequential([\n",
    "  tf.keras.layers.Flatten(input_shape=(28, 28)),\n",
    "  tf.keras.layers.Dense(512, activation=tf.nn.relu),\n",
    "  tf.keras.layers.Dropout(0.2),\n",
    "  tf.keras.layers.Dense(10, activation=tf.nn.softmax)\n",
    "])\n",
    "\n",
    "model.compile(optimizer='adam',#tf.keras.optimizers.SGD(0.01,0.01),\n",
    "              loss='sparse_categorical_crossentropy',\n",
    "              metrics=['acc'])"
   ]
  },
  {
   "cell_type": "code",
   "execution_count": 5,
   "metadata": {
    "scrolled": false
   },
   "outputs": [
    {
     "name": "stdout",
     "output_type": "stream",
     "text": [
      "Model: \"sequential\"\n",
      "_________________________________________________________________\n",
      "Layer (type)                 Output Shape              Param #   \n",
      "=================================================================\n",
      "flatten (Flatten)            (None, 784)               0         \n",
      "_________________________________________________________________\n",
      "dense (Dense)                (None, 512)               401920    \n",
      "_________________________________________________________________\n",
      "dropout (Dropout)            (None, 512)               0         \n",
      "_________________________________________________________________\n",
      "dense_1 (Dense)              (None, 10)                5130      \n",
      "=================================================================\n",
      "Total params: 407,050\n",
      "Trainable params: 407,050\n",
      "Non-trainable params: 0\n",
      "_________________________________________________________________\n"
     ]
    }
   ],
   "source": [
    "model.summary()"
   ]
  },
  {
   "cell_type": "markdown",
   "metadata": {},
   "source": [
    "## Tensorboard"
   ]
  },
  {
   "cell_type": "code",
   "execution_count": 23,
   "metadata": {},
   "outputs": [],
   "source": [
    "import shutil\n",
    "\n",
    "try:\n",
    "    shutil.rmtree('./logs/fit')\n",
    "except:\n",
    "    pass\n",
    "\n",
    "log_dir=\".\\\\logs\\\\fit\\\\\" + datetime.datetime.now().strftime(\"%Y%m%d-%H%M%S\")\n",
    "tensorboard_callback = tf.keras.callbacks.TensorBoard(log_dir=log_dir, histogram_freq=1)"
   ]
  },
  {
   "cell_type": "markdown",
   "metadata": {},
   "source": [
    "Callbacks"
   ]
  },
  {
   "cell_type": "code",
   "execution_count": 7,
   "metadata": {},
   "outputs": [],
   "source": [
    "from tensorflow.keras.callbacks import EarlyStopping, ReduceLROnPlateau\n",
    "\n",
    "earlystop = EarlyStopping(patience=10)\n",
    "\n",
    "learning_rate_reduction = ReduceLROnPlateau(monitor='val_acc', \n",
    "                                            patience=2, \n",
    "                                            verbose=1, \n",
    "                                            factor=0.5, \n",
    "                                            min_lr=0.00001)\n",
    "\n",
    "callbacks = [earlystop, learning_rate_reduction]"
   ]
  },
  {
   "cell_type": "markdown",
   "metadata": {},
   "source": [
    "Train Data"
   ]
  },
  {
   "cell_type": "code",
   "execution_count": 24,
   "metadata": {},
   "outputs": [
    {
     "name": "stdout",
     "output_type": "stream",
     "text": [
      "Train on 20000 samples, validate on 10000 samples\n",
      "Epoch 1/10\n",
      "20000/20000 [==============================] - 3s 141us/sample - loss: 0.0199 - acc: 0.9956 - val_loss: 0.0948 - val_acc: 0.9729\n",
      "Epoch 2/10\n",
      "20000/20000 [==============================] - 3s 152us/sample - loss: 0.0159 - acc: 0.9965 - val_loss: 0.0956 - val_acc: 0.9725\n",
      "Epoch 3/10\n",
      "20000/20000 [==============================] - 3s 134us/sample - loss: 0.0146 - acc: 0.9972 - val_loss: 0.0967 - val_acc: 0.9725\n",
      "Epoch 4/10\n",
      "20000/20000 [==============================] - 3s 128us/sample - loss: 0.0123 - acc: 0.9977 - val_loss: 0.0978 - val_acc: 0.9727\n",
      "Epoch 5/10\n",
      "20000/20000 [==============================] - 3s 127us/sample - loss: 0.0123 - acc: 0.9969 - val_loss: 0.1036 - val_acc: 0.9716\n",
      "Epoch 6/10\n",
      "20000/20000 [==============================] - 2s 122us/sample - loss: 0.0102 - acc: 0.9978 - val_loss: 0.1042 - val_acc: 0.9711\n",
      "Epoch 7/10\n",
      "20000/20000 [==============================] - 3s 130us/sample - loss: 0.0087 - acc: 0.9982 - val_loss: 0.0972 - val_acc: 0.9750\n",
      "Epoch 8/10\n",
      "20000/20000 [==============================] - 3s 126us/sample - loss: 0.0077 - acc: 0.9985 - val_loss: 0.0985 - val_acc: 0.9745\n",
      "Epoch 9/10\n",
      "20000/20000 [==============================] - 2s 122us/sample - loss: 0.0074 - acc: 0.9987 - val_loss: 0.0977 - val_acc: 0.9747\n",
      "Epoch 10/10\n",
      "20000/20000 [==============================] - 3s 125us/sample - loss: 0.0062 - acc: 0.9989 - val_loss: 0.1014 - val_acc: 0.9732\n"
     ]
    }
   ],
   "source": [
    "history = model.fit(x_train, y_train, epochs=10, batch_size=100, callbacks=[tensorboard_callback], validation_data=(x_test,y_test))"
   ]
  },
  {
   "cell_type": "code",
   "execution_count": 10,
   "metadata": {},
   "outputs": [
    {
     "name": "stdout",
     "output_type": "stream",
     "text": [
      "10000/10000 [==============================] - 1s 79us/sample - loss: 0.0946 - acc: 0.9721\n",
      "loss:  0.09462531143925153  acc:  0.9721\n"
     ]
    }
   ],
   "source": [
    "result = model.evaluate(x_test, y_test)\n",
    "\n",
    "print(\"loss: \", result[0],  \" acc: \", result[1])"
   ]
  },
  {
   "cell_type": "code",
   "execution_count": null,
   "metadata": {},
   "outputs": [],
   "source": [
    "os.system(\"tensorboard --logdir \\\"logs\\\\fit\\\"\")"
   ]
  },
  {
   "cell_type": "code",
   "execution_count": null,
   "metadata": {},
   "outputs": [],
   "source": []
  }
 ],
 "metadata": {
  "kernelspec": {
   "display_name": "Python 3",
   "language": "python",
   "name": "python3"
  },
  "language_info": {
   "codemirror_mode": {
    "name": "ipython",
    "version": 3
   },
   "file_extension": ".py",
   "mimetype": "text/x-python",
   "name": "python",
   "nbconvert_exporter": "python",
   "pygments_lexer": "ipython3",
   "version": "3.6.8"
  }
 },
 "nbformat": 4,
 "nbformat_minor": 2
}
