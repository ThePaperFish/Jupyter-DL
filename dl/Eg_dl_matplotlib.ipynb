{
 "cells": [
  {
   "cell_type": "markdown",
   "metadata": {},
   "source": [
    "## Tensorflow Ploting"
   ]
  },
  {
   "cell_type": "markdown",
   "metadata": {},
   "source": [
    "Import Dependency"
   ]
  },
  {
   "cell_type": "code",
   "execution_count": 62,
   "metadata": {},
   "outputs": [],
   "source": [
    "import tensorflow as tf\n",
    "import numpy as np\n",
    "from tensorflow import keras\n",
    "import matplotlib.pyplot as plt\n"
   ]
  },
  {
   "cell_type": "markdown",
   "metadata": {},
   "source": [
    "Load data"
   ]
  },
  {
   "cell_type": "code",
   "execution_count": 33,
   "metadata": {},
   "outputs": [],
   "source": [
    "with np.load('C:\\\\vs2015shareddata\\\\dataset\\\\mnist.npz') as f:\n",
    "\t(x_train, y_train) = f['x_train'][:20000],f['y_train'][:20000]\n",
    "\t(x_test, y_test) = f['x_test'],f['y_test']\n",
    "\t\n",
    "x_train, x_test = x_train / 255.0, x_test / 255.0"
   ]
  },
  {
   "cell_type": "code",
   "execution_count": 34,
   "metadata": {},
   "outputs": [
    {
     "data": {
      "text/plain": [
       "(20000, 28, 28)"
      ]
     },
     "execution_count": 34,
     "metadata": {},
     "output_type": "execute_result"
    }
   ],
   "source": [
    "x_train.shape"
   ]
  },
  {
   "cell_type": "markdown",
   "metadata": {},
   "source": [
    "Build Model"
   ]
  },
  {
   "cell_type": "code",
   "execution_count": 93,
   "metadata": {},
   "outputs": [],
   "source": [
    "model = tf.keras.models.Sequential([\n",
    "  tf.keras.layers.Flatten(input_shape=(28, 28)),\n",
    "  tf.keras.layers.Dense(512, activation=tf.nn.relu),\n",
    "  tf.keras.layers.Dropout(0.2),\n",
    "  tf.keras.layers.Dense(10, activation=tf.nn.softmax)\n",
    "])\n",
    "\n",
    "model.compile(optimizer='adam',#tf.keras.optimizers.SGD(0.01,0.01),\n",
    "              loss='sparse_categorical_crossentropy',\n",
    "              metrics=['acc'])"
   ]
  },
  {
   "cell_type": "code",
   "execution_count": null,
   "metadata": {
    "scrolled": false
   },
   "outputs": [],
   "source": [
    "model.summary()"
   ]
  },
  {
   "cell_type": "markdown",
   "metadata": {},
   "source": [
    "Callbacks"
   ]
  },
  {
   "cell_type": "code",
   "execution_count": 61,
   "metadata": {},
   "outputs": [],
   "source": [
    "from tensorflow.keras.callbacks import EarlyStopping, ReduceLROnPlateau\n",
    "\n",
    "earlystop = EarlyStopping(patience=10)\n",
    "\n",
    "learning_rate_reduction = ReduceLROnPlateau(monitor='val_acc', \n",
    "                                            patience=2, \n",
    "                                            verbose=1, \n",
    "                                            factor=0.5, \n",
    "                                            min_lr=0.00001)\n",
    "\n",
    "callbacks = [earlystop, learning_rate_reduction]"
   ]
  },
  {
   "cell_type": "markdown",
   "metadata": {},
   "source": [
    "Train Data"
   ]
  },
  {
   "cell_type": "code",
   "execution_count": 94,
   "metadata": {},
   "outputs": [
    {
     "name": "stdout",
     "output_type": "stream",
     "text": [
      "Train on 20000 samples, validate on 10000 samples\n",
      "Epoch 1/10\n",
      "20000/20000 [==============================] - 4s 196us/sample - loss: 0.4271 - acc: 0.8781 - val_loss: 0.2398 - val_acc: 0.9319\n",
      "Epoch 2/10\n",
      "20000/20000 [==============================] - 3s 160us/sample - loss: 0.1894 - acc: 0.9457 - val_loss: 0.1589 - val_acc: 0.9535\n",
      "Epoch 3/10\n",
      "20000/20000 [==============================] - 3s 166us/sample - loss: 0.1298 - acc: 0.9628 - val_loss: 0.1321 - val_acc: 0.9614\n",
      "Epoch 4/10\n",
      "20000/20000 [==============================] - 3s 162us/sample - loss: 0.0983 - acc: 0.9718 - val_loss: 0.1162 - val_acc: 0.9653\n",
      "Epoch 5/10\n",
      "20000/20000 [==============================] - 3s 161us/sample - loss: 0.0763 - acc: 0.9783 - val_loss: 0.1104 - val_acc: 0.9655\n",
      "Epoch 6/10\n",
      "20000/20000 [==============================] - 3s 160us/sample - loss: 0.0584 - acc: 0.9830 - val_loss: 0.1065 - val_acc: 0.9660\n",
      "Epoch 7/10\n",
      "20000/20000 [==============================] - 3s 160us/sample - loss: 0.0466 - acc: 0.9877 - val_loss: 0.0991 - val_acc: 0.9700\n",
      "Epoch 8/10\n",
      "20000/20000 [==============================] - 3s 157us/sample - loss: 0.0367 - acc: 0.9905 - val_loss: 0.1003 - val_acc: 0.9693\n",
      "Epoch 9/10\n",
      "20000/20000 [==============================] - 3s 164us/sample - loss: 0.0303 - acc: 0.9916 - val_loss: 0.0930 - val_acc: 0.9723\n",
      "Epoch 10/10\n",
      "20000/20000 [==============================] - 3s 165us/sample - loss: 0.0244 - acc: 0.9941 - val_loss: 0.0916 - val_acc: 0.9727\n"
     ]
    }
   ],
   "source": [
    "history = model.fit(x_train, y_train, epochs=10, batch_size=100, callbacks=callbacks, validation_data=(x_test,y_test))"
   ]
  },
  {
   "cell_type": "code",
   "execution_count": 98,
   "metadata": {},
   "outputs": [
    {
     "name": "stdout",
     "output_type": "stream",
     "text": [
      "Min loss & val_loss  0.0244 0.0916\n",
      "Max acc  & val_acc   0.8781 0.0916\n"
     ]
    },
    {
     "data": {
      "image/png": "[encoded data removed]",
      "text/plain": [
       "<Figure size 432x288 with 1 Axes>"
      ]
     },
     "metadata": {
      "needs_background": "light"
     },
     "output_type": "display_data"
    },
    {
     "data": {
      "image/png": "[encoded data removed]",
      "text/plain": [
       "<Figure size 432x288 with 1 Axes>"
      ]
     },
     "metadata": {
      "needs_background": "light"
     },
     "output_type": "display_data"
    },
    {
     "data": {
      "text/plain": [
       "<Figure size 432x288 with 0 Axes>"
      ]
     },
     "metadata": {},
     "output_type": "display_data"
    }
   ],
   "source": [
    "acc = history.history['acc']\n",
    "val_acc = history.history['val_acc']\n",
    "loss = history.history['loss']\n",
    "val_loss = history.history['val_loss']\n",
    "epochs = range(1, len(acc) + 1)\n",
    "\n",
    "plt.plot(epochs, loss, color='b', label=\"Training loss\")\n",
    "plt.plot(epochs, val_loss, color='r', label=\"validation loss\")\n",
    "plt.title('Hey')\n",
    "plt.legend()\n",
    "plt.figure()\n",
    "\n",
    "plt.plot(epochs, acc, color='b', label=\"Training acc\")\n",
    "plt.plot(epochs, val_acc, color='r', label=\"validation acc\")\n",
    "plt.title('Hey')\n",
    "plt.legend()\n",
    "plt.figure()\n",
    "\n",
    "print('Min loss & val_loss ',\"%.4f\" % min(loss), \"%.4f\" % min(val_loss))\n",
    "print('Min loss & val_loss ',\"%.4f\" % min(loss), \"%.4f\" % min(val_loss))\n",
    "print('Max acc  & val_acc  ',\"%.4f\" % min(acc) , \"%.4f\" % min(val_loss))\n",
    "print('Max acc  & val_acc  ',\"%.4f\" % min(acc) , \"%.4f\" % min(val_loss))"
   ]
  },
  {
   "cell_type": "code",
   "execution_count": 69,
   "metadata": {},
   "outputs": [
    {
     "name": "stdout",
     "output_type": "stream",
     "text": [
      "10000/10000 [==============================] - 1s 94us/sample - loss: 0.1294 - acc: 0.9760\n",
      "loss:  0.12942590176832072  acc:  0.976\n"
     ]
    }
   ],
   "source": [
    "result = model.evaluate(x_test, y_test)\n",
    "\n",
    "print(\"loss: \", result[0],  \" acc: \", result[1])"
   ]
  },
  {
   "cell_type": "code",
   "execution_count": null,
   "metadata": {},
   "outputs": [],
   "source": []
  }
 ],
 "metadata": {
  "kernelspec": {
   "display_name": "Python 3",
   "language": "python",
   "name": "python3"
  },
  "language_info": {
   "codemirror_mode": {
    "name": "ipython",
    "version": 3
   },
   "file_extension": ".py",
   "mimetype": "text/x-python",
   "name": "python",
   "nbconvert_exporter": "python",
   "pygments_lexer": "ipython3",
   "version": "3.6.8"
  }
 },
 "nbformat": 4,
 "nbformat_minor": 2
}
